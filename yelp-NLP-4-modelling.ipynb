{
 "cells": [
  {
   "cell_type": "markdown",
   "id": "81fb377c",
   "metadata": {},
   "source": [
    "# Sentiment Analysis of Yelp Reviews (Modelling)\n",
    "\n",
    "---\n",
    "\n",
    "## Contents\n",
    "\n",
    "* [Introduction](#Introduction)          \n",
    "\n",
    "\n",
    "* [Part 1: Machine Learning with Extracted Features](#Part1)\n",
    "    * [Logistic Regression](#Logistic_Regression)\n",
    "    * [Random Forest](#Random_Forest)\n",
    "    * [Support Vector Classification](#SVC)\n",
    "    * [Gradient Boosted Classification](#GBC)\n",
    "    * [Results](#Results1)   \n",
    "    \n",
    "\n",
    "* [Part 2: Machine Learning with Bag of Words](#Part2)\n",
    "    * [Naive Bayes with CountVectorizer](#NB_CV)\n",
    "    * [Naive Bayes with TFIDF](#NB_TF)\n",
    "    * [Gradient Boosted Classification with Count Vectorizer](#GBC_CV)\n",
    "    * [Gradient Boosted Classification with TFIDF](#GBC_TF)\n",
    "    * [Logistic Regression with Count Vectorizer](#LR_CV)\n",
    "    * [Logistic Regression with TFIDF](#LR_TF)\n",
    "    * [Results](#Results2)      \n",
    "    \n",
    "\n",
    "* [Part 3: Embedding Techniques](#Part3)\n",
    "    * [Dense + Sparse Features](#Dense)\n",
    "    * [Naive Bayes Probability with Dense + Sparse Features](#NB_Sparse)\n",
    "    * [Stacked Model](#Stacked)\n",
    "    * [Results](#Results3)       \n",
    "    \n",
    "    \n",
    "* [Conclusion](#Conclusion)\n",
    "\n",
    "---"
   ]
  },
  {
   "cell_type": "markdown",
   "id": "94360189",
   "metadata": {},
   "source": [
    "## Introduction\n",
    "\n",
    "We've collected the data, analyzed it, found the most important feautres, and have a baseline accuracy of around 72%. Now, we'll be going through some other methods of modeling to find the most accurate version so we can deploy it for future yelp review classifications.\n",
    "\n",
    "---\n",
    "\n",
    "### Objectives\n",
    "\n",
    "In this notebook we will:\n",
    "\n",
    "* Test out multiple different models\n",
    "* Including Regular ML Models with our extracted features and embedded models with sparse/dense text matrices\n",
    "\n",
    "---\n",
    "\n",
    "### Import Necessary Libraries"
   ]
  },
  {
   "cell_type": "code",
   "execution_count": 1,
   "id": "263129c4",
   "metadata": {},
   "outputs": [],
   "source": [
    "import pandas as pd\n",
    "import numpy as np\n",
    "import matplotlib.pyplot as plt\n",
    "import seaborn as sns\n",
    "\n",
    "from sklearn.model_selection import train_test_split, GridSearchCV\n",
    "from sklearn.metrics import make_scorer, accuracy_score, f1_score, confusion_matrix\n",
    "\n",
    "from sklearn.linear_model import LogisticRegression\n",
    "from sklearn.ensemble import RandomForestClassifier, GradientBoostingClassifier\n",
    "from sklearn.svm import SVC\n",
    "from sklearn.naive_bayes import MultinomialNB\n",
    "\n",
    "from sklearn.pipeline import Pipeline\n",
    "from sklearn.preprocessing import StandardScaler, MinMaxScaler\n",
    "from sklearn.feature_extraction.text import CountVectorizer\n",
    "from sklearn.feature_extraction.text import TfidfVectorizer\n",
    "\n",
    "from scipy.sparse import coo_matrix, hstack\n",
    "\n",
    "import pickle\n",
    "from pycm import *\n",
    "\n",
    "import warnings\n",
    "warnings.filterwarnings('ignore')"
   ]
  },
  {
   "cell_type": "markdown",
   "id": "b8339172",
   "metadata": {},
   "source": [
    "### Import Data"
   ]
  },
  {
   "cell_type": "code",
   "execution_count": 2,
   "id": "c90f7dcf",
   "metadata": {},
   "outputs": [
    {
     "data": {
      "text/html": [
       "<div>\n",
       "<style scoped>\n",
       "    .dataframe tbody tr th:only-of-type {\n",
       "        vertical-align: middle;\n",
       "    }\n",
       "\n",
       "    .dataframe tbody tr th {\n",
       "        vertical-align: top;\n",
       "    }\n",
       "\n",
       "    .dataframe thead th {\n",
       "        text-align: right;\n",
       "    }\n",
       "</style>\n",
       "<table border=\"1\" class=\"dataframe\">\n",
       "  <thead>\n",
       "    <tr style=\"text-align: right;\">\n",
       "      <th></th>\n",
       "      <th>resturant_name</th>\n",
       "      <th>yelp_review</th>\n",
       "      <th>polarity</th>\n",
       "      <th>review_sentiment</th>\n",
       "      <th>proportion_positive</th>\n",
       "      <th>park</th>\n",
       "      <th>bake</th>\n",
       "      <th>shop</th>\n",
       "      <th>becom</th>\n",
       "      <th>go</th>\n",
       "      <th>...</th>\n",
       "      <th>jukebox</th>\n",
       "      <th>bruschetta</th>\n",
       "      <th>calzon</th>\n",
       "      <th>pizzeria</th>\n",
       "      <th>antipasto</th>\n",
       "      <th>linguini</th>\n",
       "      <th>zucchini</th>\n",
       "      <th>player</th>\n",
       "      <th>sicilian</th>\n",
       "      <th>castl</th>\n",
       "    </tr>\n",
       "  </thead>\n",
       "  <tbody>\n",
       "    <tr>\n",
       "      <th>0</th>\n",
       "      <td>Morris Park Bake Shop</td>\n",
       "      <td>morris park bake shop has become my go to spot...</td>\n",
       "      <td>0.338889</td>\n",
       "      <td>slightly positive</td>\n",
       "      <td>0.2143</td>\n",
       "      <td>0.0</td>\n",
       "      <td>0.000000</td>\n",
       "      <td>0.0</td>\n",
       "      <td>0.0</td>\n",
       "      <td>0.0</td>\n",
       "      <td>...</td>\n",
       "      <td>0.0</td>\n",
       "      <td>0.0</td>\n",
       "      <td>0.0</td>\n",
       "      <td>0.0</td>\n",
       "      <td>0.0</td>\n",
       "      <td>0.000000</td>\n",
       "      <td>0.0</td>\n",
       "      <td>0.0</td>\n",
       "      <td>0.0</td>\n",
       "      <td>0.0</td>\n",
       "    </tr>\n",
       "    <tr>\n",
       "      <th>1</th>\n",
       "      <td>Morris Park Bake Shop</td>\n",
       "      <td>i thought the cookies and biscotti were prett...</td>\n",
       "      <td>0.314583</td>\n",
       "      <td>slightly positive</td>\n",
       "      <td>0.1500</td>\n",
       "      <td>0.0</td>\n",
       "      <td>0.000000</td>\n",
       "      <td>0.0</td>\n",
       "      <td>0.0</td>\n",
       "      <td>0.0</td>\n",
       "      <td>...</td>\n",
       "      <td>0.0</td>\n",
       "      <td>0.0</td>\n",
       "      <td>0.0</td>\n",
       "      <td>0.0</td>\n",
       "      <td>0.0</td>\n",
       "      <td>0.000000</td>\n",
       "      <td>0.0</td>\n",
       "      <td>0.0</td>\n",
       "      <td>0.0</td>\n",
       "      <td>0.0</td>\n",
       "    </tr>\n",
       "    <tr>\n",
       "      <th>2</th>\n",
       "      <td>Morris Park Bake Shop</td>\n",
       "      <td>guys.... so im a big time biscotti connoisseu...</td>\n",
       "      <td>0.238068</td>\n",
       "      <td>slightly positive</td>\n",
       "      <td>0.1477</td>\n",
       "      <td>0.0</td>\n",
       "      <td>0.096569</td>\n",
       "      <td>0.0</td>\n",
       "      <td>0.0</td>\n",
       "      <td>0.0</td>\n",
       "      <td>...</td>\n",
       "      <td>0.0</td>\n",
       "      <td>0.0</td>\n",
       "      <td>0.0</td>\n",
       "      <td>0.0</td>\n",
       "      <td>0.0</td>\n",
       "      <td>0.152041</td>\n",
       "      <td>0.0</td>\n",
       "      <td>0.0</td>\n",
       "      <td>0.0</td>\n",
       "      <td>0.0</td>\n",
       "    </tr>\n",
       "    <tr>\n",
       "      <th>3</th>\n",
       "      <td>Morris Park Bake Shop</td>\n",
       "      <td>i had a craving for a special type of cake wi...</td>\n",
       "      <td>0.314643</td>\n",
       "      <td>slightly positive</td>\n",
       "      <td>0.2414</td>\n",
       "      <td>0.0</td>\n",
       "      <td>0.000000</td>\n",
       "      <td>0.0</td>\n",
       "      <td>0.0</td>\n",
       "      <td>0.0</td>\n",
       "      <td>...</td>\n",
       "      <td>0.0</td>\n",
       "      <td>0.0</td>\n",
       "      <td>0.0</td>\n",
       "      <td>0.0</td>\n",
       "      <td>0.0</td>\n",
       "      <td>0.000000</td>\n",
       "      <td>0.0</td>\n",
       "      <td>0.0</td>\n",
       "      <td>0.0</td>\n",
       "      <td>0.0</td>\n",
       "    </tr>\n",
       "    <tr>\n",
       "      <th>4</th>\n",
       "      <td>Morris Park Bake Shop</td>\n",
       "      <td>the chocolate cups are amazing! have been eat...</td>\n",
       "      <td>0.500000</td>\n",
       "      <td>positive</td>\n",
       "      <td>0.2500</td>\n",
       "      <td>0.0</td>\n",
       "      <td>0.000000</td>\n",
       "      <td>0.0</td>\n",
       "      <td>0.0</td>\n",
       "      <td>0.0</td>\n",
       "      <td>...</td>\n",
       "      <td>0.0</td>\n",
       "      <td>0.0</td>\n",
       "      <td>0.0</td>\n",
       "      <td>0.0</td>\n",
       "      <td>0.0</td>\n",
       "      <td>0.000000</td>\n",
       "      <td>0.0</td>\n",
       "      <td>0.0</td>\n",
       "      <td>0.0</td>\n",
       "      <td>0.0</td>\n",
       "    </tr>\n",
       "  </tbody>\n",
       "</table>\n",
       "<p>5 rows × 1558 columns</p>\n",
       "</div>"
      ],
      "text/plain": [
       "          resturant_name                                        yelp_review  \\\n",
       "0  Morris Park Bake Shop  morris park bake shop has become my go to spot...   \n",
       "1  Morris Park Bake Shop   i thought the cookies and biscotti were prett...   \n",
       "2  Morris Park Bake Shop   guys.... so im a big time biscotti connoisseu...   \n",
       "3  Morris Park Bake Shop   i had a craving for a special type of cake wi...   \n",
       "4  Morris Park Bake Shop   the chocolate cups are amazing! have been eat...   \n",
       "\n",
       "   polarity   review_sentiment  proportion_positive  park      bake  shop  \\\n",
       "0  0.338889  slightly positive               0.2143   0.0  0.000000   0.0   \n",
       "1  0.314583  slightly positive               0.1500   0.0  0.000000   0.0   \n",
       "2  0.238068  slightly positive               0.1477   0.0  0.096569   0.0   \n",
       "3  0.314643  slightly positive               0.2414   0.0  0.000000   0.0   \n",
       "4  0.500000           positive               0.2500   0.0  0.000000   0.0   \n",
       "\n",
       "   becom   go  ...  jukebox  bruschetta  calzon  pizzeria  antipasto  \\\n",
       "0    0.0  0.0  ...      0.0         0.0     0.0       0.0        0.0   \n",
       "1    0.0  0.0  ...      0.0         0.0     0.0       0.0        0.0   \n",
       "2    0.0  0.0  ...      0.0         0.0     0.0       0.0        0.0   \n",
       "3    0.0  0.0  ...      0.0         0.0     0.0       0.0        0.0   \n",
       "4    0.0  0.0  ...      0.0         0.0     0.0       0.0        0.0   \n",
       "\n",
       "   linguini  zucchini  player  sicilian  castl  \n",
       "0  0.000000       0.0     0.0       0.0    0.0  \n",
       "1  0.000000       0.0     0.0       0.0    0.0  \n",
       "2  0.152041       0.0     0.0       0.0    0.0  \n",
       "3  0.000000       0.0     0.0       0.0    0.0  \n",
       "4  0.000000       0.0     0.0       0.0    0.0  \n",
       "\n",
       "[5 rows x 1558 columns]"
      ]
     },
     "execution_count": 2,
     "metadata": {},
     "output_type": "execute_result"
    }
   ],
   "source": [
    "yelp_data = pd.read_csv('./data/yelp_data_sentiment.csv')\n",
    "yelp_data.head()"
   ]
  },
  {
   "cell_type": "markdown",
   "id": "41ad675f",
   "metadata": {},
   "source": [
    "## Part 1: Machine Learning with Extracted Features <a id='Part1'></a>\n",
    "\n",
    "There are many different models we can try but to start, we're going to work with the standard machine learning models like logistic regression and random forest.\n",
    "\n",
    "I'll be collecting accuracy and f1 scores along the way to see which model performs the best with this data!\n",
    "\n",
    "---\n",
    "\n",
    "Here's what the process will look like:\n",
    "\n",
    "* Choose a model type\n",
    "* Define a pipeline and use GridSearch to find the best parameters\n",
    "* Save the model so we don't have the run the cell multiple times\n",
    "* Load the model and run accuracy and f1 scores\n",
    "* Move on to the next model\n",
    "\n",
    "---"
   ]
  },
  {
   "cell_type": "code",
   "execution_count": 3,
   "id": "e6928b1d",
   "metadata": {},
   "outputs": [],
   "source": [
    "X = yelp_data.iloc[:,4:] # features\n",
    "y = yelp_data['review_sentiment'] # target\n",
    "indices = yelp_data.index\n",
    "\n",
    "X_train, X_test, y_train, y_test, i_train, i_test = train_test_split(X, y, indices, test_size=0.2, random_state=7)"
   ]
  },
  {
   "cell_type": "markdown",
   "id": "d5cf01c2",
   "metadata": {},
   "source": [
    "### Logistic Regression <a id='Logistic_Regression'></a>  \n",
    "\n",
    "We're going to create a pipeline that uses the standard scaler and a classifier using GridSearch to find the best parameters.\n",
    "\n",
    "---"
   ]
  },
  {
   "cell_type": "code",
   "execution_count": 5,
   "id": "57688dfd",
   "metadata": {},
   "outputs": [
    {
     "data": {
      "text/plain": [
       "{'lr__C': 0.1}"
      ]
     },
     "execution_count": 5,
     "metadata": {},
     "output_type": "execute_result"
    }
   ],
   "source": [
    "steps = [('scaler', StandardScaler()), ('lr', LogisticRegression())]\n",
    "pipeline = Pipeline(steps)\n",
    "parameters = {'lr__C': [0.01, 0.1, 1, 10, 100]}\n",
    "\n",
    "log_reg = GridSearchCV(pipeline, parameters, cv=10, scoring='accuracy')\n",
    "log_reg.fit(X_train, y_train)\n",
    "log_reg.best_params_"
   ]
  },
  {
   "cell_type": "code",
   "execution_count": 6,
   "id": "bd6e4f7d",
   "metadata": {},
   "outputs": [],
   "source": [
    "filename = './models/log_reg.sav'\n",
    "pickle.dump(log_reg, open(filename, 'wb'))"
   ]
  },
  {
   "cell_type": "code",
   "execution_count": 7,
   "id": "e378a0e4",
   "metadata": {},
   "outputs": [],
   "source": [
    "log_reg = pickle.load(open(filename, 'rb'))"
   ]
  },
  {
   "cell_type": "code",
   "execution_count": 8,
   "id": "13fccc2b",
   "metadata": {},
   "outputs": [],
   "source": [
    "predictions = log_reg.predict(X_test)"
   ]
  },
  {
   "cell_type": "code",
   "execution_count": 9,
   "id": "022fb7d7",
   "metadata": {},
   "outputs": [
    {
     "name": "stdout",
     "output_type": "stream",
     "text": [
      "Accuracy on test data:  0.7573479152426521\n",
      "F1 Score (macro):  0.7534061881442666\n",
      "F1 Score (micro):  0.757347915242652\n",
      "F1 Score (weighted):  0.7574020669711642\n"
     ]
    }
   ],
   "source": [
    "test_accuracy = log_reg.score(X_test, y_test)\n",
    "f1_accuracy_macro = f1_score(y_test, predictions, average='macro')\n",
    "f1_accuracy_micro = f1_score(y_test, predictions, average='micro')\n",
    "f1_accuracy_weighted = f1_score(y_test, predictions, average='weighted')\n",
    "\n",
    "print('Accuracy on test data: ' ,test_accuracy)\n",
    "print('F1 Score (macro): ', f1_accuracy_macro)\n",
    "print('F1 Score (micro): ', f1_accuracy_micro)\n",
    "print('F1 Score (weighted): ', f1_accuracy_weighted)"
   ]
  },
  {
   "cell_type": "code",
   "execution_count": 10,
   "id": "283e7a3d",
   "metadata": {},
   "outputs": [],
   "source": [
    "# Assign metric to variables\n",
    "lr_acc = test_accuracy\n",
    "lr_f1_macro = f1_accuracy_macro\n",
    "lr_f1_micro = f1_accuracy_micro\n",
    "lr_f1_weighted = f1_accuracy_weighted"
   ]
  },
  {
   "cell_type": "markdown",
   "id": "84eeb9cf",
   "metadata": {},
   "source": [
    "### Random Forest <a id='Random_Forest'></a>\n",
    "\n",
    "Same thing here, first we'll make a pipeline and then use grid search to find the best parameters to tune this model. However, there is no need to scale as this is a tree-based model.\n",
    "\n",
    "---"
   ]
  },
  {
   "cell_type": "code",
   "execution_count": 11,
   "id": "60d2b77e",
   "metadata": {},
   "outputs": [
    {
     "data": {
      "text/plain": [
       "{'rf__max_features': 'auto', 'rf__n_estimators': 50}"
      ]
     },
     "execution_count": 11,
     "metadata": {},
     "output_type": "execute_result"
    }
   ],
   "source": [
    "steps = [('rf', RandomForestClassifier())]\n",
    "pipeline = Pipeline(steps)\n",
    "parameters = {'rf__n_estimators': [10 , 20, 30, 40, 50], 'rf__max_features': ['auto','sqrt']}\n",
    "\n",
    "forest = GridSearchCV(pipeline, parameters, cv=10, scoring='accuracy')\n",
    "forest.fit(X_train, y_train)\n",
    "forest.best_params_"
   ]
  },
  {
   "cell_type": "code",
   "execution_count": 12,
   "id": "0e129c1e",
   "metadata": {},
   "outputs": [],
   "source": [
    "filename = './models/forest.sav'\n",
    "pickle.dump(forest, open(filename, 'wb'))"
   ]
  },
  {
   "cell_type": "code",
   "execution_count": 13,
   "id": "99fd3a79",
   "metadata": {},
   "outputs": [],
   "source": [
    "forest = pickle.load(open(filename, 'rb'))"
   ]
  },
  {
   "cell_type": "code",
   "execution_count": 14,
   "id": "b61f94e9",
   "metadata": {},
   "outputs": [],
   "source": [
    "predictions = forest.predict(X_test)"
   ]
  },
  {
   "cell_type": "code",
   "execution_count": 15,
   "id": "60843f1c",
   "metadata": {},
   "outputs": [
    {
     "name": "stdout",
     "output_type": "stream",
     "text": [
      "Accuracy on test data:  0.6285030758714969\n",
      "F1 Score (macro):  0.6238271787411696\n",
      "F1 Score (micro):  0.6285030758714969\n",
      "F1 Score (weighted):  0.6272701349332778\n"
     ]
    }
   ],
   "source": [
    "test_accuracy = forest.score(X_test, y_test)\n",
    "f1_accuracy_macro = f1_score(y_test, predictions, average='macro')\n",
    "f1_accuracy_micro = f1_score(y_test, predictions, average='micro')\n",
    "f1_accuracy_weighted = f1_score(y_test, predictions, average='weighted')\n",
    "\n",
    "print('Accuracy on test data: ' ,test_accuracy)\n",
    "print('F1 Score (macro): ', f1_accuracy_macro)\n",
    "print('F1 Score (micro): ', f1_accuracy_micro)\n",
    "print('F1 Score (weighted): ', f1_accuracy_weighted)"
   ]
  },
  {
   "cell_type": "code",
   "execution_count": 16,
   "id": "d0514d04",
   "metadata": {},
   "outputs": [],
   "source": [
    "# Assign metric to variables\n",
    "rf_acc = test_accuracy\n",
    "rf_f1_macro = f1_accuracy_macro\n",
    "rf_f1_micro = f1_accuracy_micro\n",
    "rf_f1_weighted = f1_accuracy_weighted"
   ]
  },
  {
   "cell_type": "markdown",
   "id": "36333f72",
   "metadata": {},
   "source": [
    "### Support Vector Classification <a id='SVC'></a>"
   ]
  },
  {
   "cell_type": "code",
   "execution_count": 17,
   "id": "a0e11ead",
   "metadata": {},
   "outputs": [
    {
     "data": {
      "text/plain": [
       "{'svc__C': 1}"
      ]
     },
     "execution_count": 17,
     "metadata": {},
     "output_type": "execute_result"
    }
   ],
   "source": [
    "steps = [('scaler', StandardScaler()), ('svc', SVC())]\n",
    "pipeline = Pipeline(steps)\n",
    "parameters = {'svc__C':[0.01, 0.1, 1]}\n",
    "\n",
    "svc = GridSearchCV(pipeline, parameters, cv=3, scoring='accuracy')\n",
    "svc.fit(X_train, y_train)\n",
    "svc.best_params_"
   ]
  },
  {
   "cell_type": "code",
   "execution_count": 18,
   "id": "f671fc38",
   "metadata": {},
   "outputs": [],
   "source": [
    "filename = './models/svc.sav'\n",
    "pickle.dump(svc, open(filename, 'wb'))"
   ]
  },
  {
   "cell_type": "code",
   "execution_count": 19,
   "id": "2dc6ef9e",
   "metadata": {},
   "outputs": [],
   "source": [
    "svc = pickle.load(open(filename, 'rb'))"
   ]
  },
  {
   "cell_type": "code",
   "execution_count": 20,
   "id": "985b0cd3",
   "metadata": {},
   "outputs": [],
   "source": [
    "predictions = svc.predict(X_test)"
   ]
  },
  {
   "cell_type": "code",
   "execution_count": 21,
   "id": "f6b50605",
   "metadata": {},
   "outputs": [
    {
     "name": "stdout",
     "output_type": "stream",
     "text": [
      "Accuracy on test data:  0.6852358168147642\n",
      "F1 Score (macro):  0.6681635063979938\n",
      "F1 Score (micro):  0.6852358168147642\n",
      "F1 Score (weighted):  0.6818816342919244\n"
     ]
    }
   ],
   "source": [
    "test_accuracy = svc.score(X_test, y_test)\n",
    "f1_accuracy_macro = f1_score(y_test, predictions, average='macro')\n",
    "f1_accuracy_micro = f1_score(y_test, predictions, average='micro')\n",
    "f1_accuracy_weighted = f1_score(y_test, predictions, average='weighted')\n",
    "\n",
    "print('Accuracy on test data: ' ,test_accuracy)\n",
    "print('F1 Score (macro): ', f1_accuracy_macro)\n",
    "print('F1 Score (micro): ', f1_accuracy_micro)\n",
    "print('F1 Score (weighted): ', f1_accuracy_weighted)"
   ]
  },
  {
   "cell_type": "code",
   "execution_count": 22,
   "id": "38d0b0a2",
   "metadata": {},
   "outputs": [],
   "source": [
    "# Assign metric to variables\n",
    "svc_acc = test_accuracy\n",
    "svc_f1_macro = f1_accuracy_macro\n",
    "svc_f1_micro = f1_accuracy_micro\n",
    "svc_f1_weighted = f1_accuracy_weighted"
   ]
  },
  {
   "cell_type": "markdown",
   "id": "d852dbc2",
   "metadata": {},
   "source": [
    "### Gradient Boosted Classification <a id='GBC'></a>\n",
    "\n",
    "Similar to random forest, GBM are a form of tree-based model and we can exclude the scaling step.\n",
    "\n",
    "---"
   ]
  },
  {
   "cell_type": "code",
   "execution_count": 23,
   "id": "e063bc9a",
   "metadata": {},
   "outputs": [
    {
     "data": {
      "text/plain": [
       "{'gbc__learning_rate': 0.25, 'gbc__n_estimators': 500}"
      ]
     },
     "execution_count": 23,
     "metadata": {},
     "output_type": "execute_result"
    }
   ],
   "source": [
    "steps = [('gbc', GradientBoostingClassifier(max_features='sqrt'))]\n",
    "pipeline = Pipeline(steps) \n",
    "parameters = {'gbc__n_estimators':[10, 50, 100, 200, 500], 'gbc__learning_rate': [0.05, 0.1, 0.15, 0.2, 0.25]}\n",
    "\n",
    "gbm = GridSearchCV(pipeline, parameters, cv=10, scoring='accuracy')\n",
    "gbm.fit(X_train, y_train)\n",
    "gbm.best_params_"
   ]
  },
  {
   "cell_type": "code",
   "execution_count": 24,
   "id": "f7702e59",
   "metadata": {},
   "outputs": [
    {
     "data": {
      "text/plain": [
       "Pipeline(steps=[('gbc',\n",
       "                 GradientBoostingClassifier(learning_rate=0.25,\n",
       "                                            max_features='sqrt',\n",
       "                                            n_estimators=500))])"
      ]
     },
     "execution_count": 24,
     "metadata": {},
     "output_type": "execute_result"
    }
   ],
   "source": [
    "steps = [('gbc', GradientBoostingClassifier(learning_rate=0.25, max_features='sqrt', n_estimators=500))] \n",
    "gbm = Pipeline(steps) \n",
    "gbm.fit(X_train, y_train)"
   ]
  },
  {
   "cell_type": "code",
   "execution_count": 25,
   "id": "609c26ed",
   "metadata": {},
   "outputs": [],
   "source": [
    "filename = './models/gbm.sav'\n",
    "pickle.dump(gbm, open(filename, 'wb'))"
   ]
  },
  {
   "cell_type": "code",
   "execution_count": 26,
   "id": "d2968457",
   "metadata": {},
   "outputs": [],
   "source": [
    "gbm = pickle.load(open(filename, 'rb'))"
   ]
  },
  {
   "cell_type": "code",
   "execution_count": 27,
   "id": "83f3327f",
   "metadata": {},
   "outputs": [],
   "source": [
    "predictions = gbm.predict(X_test)"
   ]
  },
  {
   "cell_type": "code",
   "execution_count": 28,
   "id": "2c64b4aa",
   "metadata": {},
   "outputs": [
    {
     "name": "stdout",
     "output_type": "stream",
     "text": [
      "Accuracy on test data:  0.7012987012987013\n",
      "F1 Score (macro):  0.7032187056262862\n",
      "F1 Score (micro):  0.7012987012987013\n",
      "F1 Score (weighted):  0.7013026585270291\n"
     ]
    }
   ],
   "source": [
    "test_accuracy = gbm.score(X_test, y_test)\n",
    "f1_accuracy_macro = f1_score(y_test, predictions, average='macro')\n",
    "f1_accuracy_micro = f1_score(y_test, predictions, average='micro')\n",
    "f1_accuracy_weighted = f1_score(y_test, predictions, average='weighted')\n",
    "\n",
    "print('Accuracy on test data: ' ,test_accuracy)\n",
    "print('F1 Score (macro): ', f1_accuracy_macro)\n",
    "print('F1 Score (micro): ', f1_accuracy_micro)\n",
    "print('F1 Score (weighted): ', f1_accuracy_weighted)"
   ]
  },
  {
   "cell_type": "code",
   "execution_count": 29,
   "id": "9974f1cb",
   "metadata": {},
   "outputs": [],
   "source": [
    "# Assign metric to variables\n",
    "gbm_acc = test_accuracy\n",
    "gbm_f1_macro = f1_accuracy_macro\n",
    "gbm_f1_micro = f1_accuracy_micro\n",
    "gbm_f1_weighted = f1_accuracy_weighted"
   ]
  },
  {
   "cell_type": "markdown",
   "id": "35f996be",
   "metadata": {},
   "source": [
    "### Results <a id='Results1'></a>\n",
    "\n",
    "Now we have all our scores, let's see which model performed the best.\n",
    "\n",
    "---"
   ]
  },
  {
   "cell_type": "code",
   "execution_count": 31,
   "id": "80f3e1d5",
   "metadata": {},
   "outputs": [
    {
     "data": {
      "text/html": [
       "<div>\n",
       "<style scoped>\n",
       "    .dataframe tbody tr th:only-of-type {\n",
       "        vertical-align: middle;\n",
       "    }\n",
       "\n",
       "    .dataframe tbody tr th {\n",
       "        vertical-align: top;\n",
       "    }\n",
       "\n",
       "    .dataframe thead th {\n",
       "        text-align: right;\n",
       "    }\n",
       "</style>\n",
       "<table border=\"1\" class=\"dataframe\">\n",
       "  <thead>\n",
       "    <tr style=\"text-align: right;\">\n",
       "      <th></th>\n",
       "      <th>Model</th>\n",
       "      <th>Accuracy</th>\n",
       "      <th>F1_Macro</th>\n",
       "      <th>F1_Micro</th>\n",
       "      <th>F1_Weighted</th>\n",
       "    </tr>\n",
       "  </thead>\n",
       "  <tbody>\n",
       "    <tr>\n",
       "      <th>0</th>\n",
       "      <td>Logistic Regression</td>\n",
       "      <td>0.757</td>\n",
       "      <td>0.753</td>\n",
       "      <td>0.757</td>\n",
       "      <td>0.757</td>\n",
       "    </tr>\n",
       "    <tr>\n",
       "      <th>1</th>\n",
       "      <td>Random Forest</td>\n",
       "      <td>0.629</td>\n",
       "      <td>0.624</td>\n",
       "      <td>0.629</td>\n",
       "      <td>0.627</td>\n",
       "    </tr>\n",
       "    <tr>\n",
       "      <th>2</th>\n",
       "      <td>SVC</td>\n",
       "      <td>0.685</td>\n",
       "      <td>0.668</td>\n",
       "      <td>0.685</td>\n",
       "      <td>0.682</td>\n",
       "    </tr>\n",
       "    <tr>\n",
       "      <th>3</th>\n",
       "      <td>GBC</td>\n",
       "      <td>0.701</td>\n",
       "      <td>0.703</td>\n",
       "      <td>0.701</td>\n",
       "      <td>0.701</td>\n",
       "    </tr>\n",
       "  </tbody>\n",
       "</table>\n",
       "</div>"
      ],
      "text/plain": [
       "                 Model  Accuracy  F1_Macro  F1_Micro  F1_Weighted\n",
       "0  Logistic Regression     0.757     0.753     0.757        0.757\n",
       "1        Random Forest     0.629     0.624     0.629        0.627\n",
       "2                  SVC     0.685     0.668     0.685        0.682\n",
       "3                  GBC     0.701     0.703     0.701        0.701"
      ]
     },
     "execution_count": 31,
     "metadata": {},
     "output_type": "execute_result"
    }
   ],
   "source": [
    "result_1 = pd.DataFrame({'Model':['Logistic Regression', 'Random Forest', 'SVC', 'GBC'],\n",
    "                         'Accuracy':[lr_acc, rf_acc, svc_acc, gbm_acc],\n",
    "                         'F1_Macro':[lr_f1_macro, rf_f1_macro, svc_f1_macro, gbm_f1_macro],\n",
    "                         'F1_Micro':[lr_f1_micro, rf_f1_micro, svc_f1_micro, gbm_f1_micro],\n",
    "                         'F1_Weighted':[lr_f1_weighted, rf_f1_weighted, svc_f1_weighted, gbm_f1_weighted]})\n",
    "\n",
    "result_1 = result_1.round(3)\n",
    "result_1"
   ]
  },
  {
   "cell_type": "markdown",
   "id": "89ba7244",
   "metadata": {},
   "source": [
    "---\n",
    "\n",
    "Looks like the <u>**Logistic Regression**</u> has the highest scores in all categories.\n",
    "\n",
    "---"
   ]
  },
  {
   "cell_type": "markdown",
   "id": "41c22676",
   "metadata": {},
   "source": [
    "## Part 2: Machine Learning with Bag of Words <a id='Part2'></a>\n",
    "\n",
    "We've already done feature selection for our text, but with these methods we should be able to construct a dense/sparse text matrix and make an independent prediction based on just the text.\n",
    "\n",
    "The goal here is to find a purely text based model to generate a prediction.\n",
    "\n",
    "---"
   ]
  },
  {
   "cell_type": "code",
   "execution_count": 32,
   "id": "9bf1f220",
   "metadata": {},
   "outputs": [],
   "source": [
    "# Generate new train and test sets\n",
    "X = yelp_data['yelp_review']\n",
    "y = yelp_data['review_sentiment']\n",
    "indices = yelp_data.index"
   ]
  },
  {
   "cell_type": "code",
   "execution_count": 33,
   "id": "88774045",
   "metadata": {},
   "outputs": [],
   "source": [
    "X_train, X_test, y_train, y_test, i_train, i_test = train_test_split(X, y, indices, test_size=0.2, random_state=7)"
   ]
  },
  {
   "cell_type": "markdown",
   "id": "23ae0aa7",
   "metadata": {},
   "source": [
    "### Naive Bayes with CountVectorizer <a id='NB_CV'></a>\n",
    "\n",
    "Now we're going to test two classification methods with two different text vectorizers to get the best result. First, we'll do Naive Bayes with CV and TFIDF.\n",
    "\n",
    "---"
   ]
  },
  {
   "cell_type": "code",
   "execution_count": 34,
   "id": "404ee34f",
   "metadata": {},
   "outputs": [
    {
     "data": {
      "text/plain": [
       "{'nb__alpha': 0.01, 'vec__min_df': 0.01}"
      ]
     },
     "execution_count": 34,
     "metadata": {},
     "output_type": "execute_result"
    }
   ],
   "source": [
    "steps = [('vec', CountVectorizer(stop_words='english', ngram_range=(1, 2))), ('nb', MultinomialNB())]\n",
    "pipeline = Pipeline(steps)\n",
    "parameters = {'vec__min_df': [0.01, 0.1, 1, 10, 100], 'nb__alpha': [0.01, 0.1, 1, 10, 100]}\n",
    "\n",
    "mnb = GridSearchCV(pipeline, parameters, cv=10, scoring='accuracy')\n",
    "mnb.fit(X_train, y_train)\n",
    "mnb.best_params_"
   ]
  },
  {
   "cell_type": "code",
   "execution_count": 35,
   "id": "3c3392cb",
   "metadata": {},
   "outputs": [],
   "source": [
    "filename = './models/mnb_cv.sav'\n",
    "pickle.dump(mnb, open(filename, 'wb'))"
   ]
  },
  {
   "cell_type": "code",
   "execution_count": 36,
   "id": "e4b3ec63",
   "metadata": {},
   "outputs": [],
   "source": [
    "mnb = pickle.load(open(filename, 'rb'))"
   ]
  },
  {
   "cell_type": "code",
   "execution_count": 37,
   "id": "41137ad1",
   "metadata": {},
   "outputs": [],
   "source": [
    "predictions = mnb.predict(X_test)"
   ]
  },
  {
   "cell_type": "code",
   "execution_count": 38,
   "id": "1c534082",
   "metadata": {},
   "outputs": [
    {
     "name": "stdout",
     "output_type": "stream",
     "text": [
      "Accuracy on test data:  0.5892002734107997\n",
      "F1 Score (macro):  0.5921699380997087\n",
      "F1 Score (micro):  0.5892002734107997\n",
      "F1 Score (weighted):  0.5873456260853475\n"
     ]
    }
   ],
   "source": [
    "test_accuracy = mnb.score(X_test, y_test)\n",
    "probs = mnb.predict_proba(X_test)[:, 1]\n",
    "f1_accuracy_macro = f1_score(y_test, predictions, average='macro')\n",
    "f1_accuracy_micro = f1_score(y_test, predictions, average='micro')\n",
    "f1_accuracy_weighted = f1_score(y_test, predictions, average='weighted')\n",
    "\n",
    "print('Accuracy on test data: ' , test_accuracy)\n",
    "print('F1 Score (macro): ', f1_accuracy_macro)\n",
    "print('F1 Score (micro): ', f1_accuracy_micro)\n",
    "print('F1 Score (weighted): ', f1_accuracy_weighted)"
   ]
  },
  {
   "cell_type": "code",
   "execution_count": 39,
   "id": "03e0b56b",
   "metadata": {},
   "outputs": [],
   "source": [
    "# Assign metric to variables\n",
    "mnb_cv_acc = test_accuracy\n",
    "mnb_cv_f1_macro = f1_accuracy_macro\n",
    "mnb_cv_f1_micro = f1_accuracy_micro\n",
    "mnb_cv_f1_weighted = f1_accuracy_weighted"
   ]
  },
  {
   "cell_type": "markdown",
   "id": "a0b51d25",
   "metadata": {},
   "source": [
    "### Naive Bayes with TFIDF <a id='NB_TF'></a>"
   ]
  },
  {
   "cell_type": "code",
   "execution_count": 40,
   "id": "00898160",
   "metadata": {},
   "outputs": [
    {
     "data": {
      "text/plain": [
       "{'nb__alpha': 0.01, 'vec__min_df': 0.01}"
      ]
     },
     "execution_count": 40,
     "metadata": {},
     "output_type": "execute_result"
    }
   ],
   "source": [
    "steps = [('vec', TfidfVectorizer(stop_words='english', ngram_range=(1, 2))), ('nb', MultinomialNB())]\n",
    "pipeline = Pipeline(steps)\n",
    "parameters = {'vec__min_df': [0.01, 0.1, 1, 10, 100], 'nb__alpha': [0.01, 0.1, 1, 10, 100]}\n",
    "\n",
    "mnb = GridSearchCV(pipeline, parameters, cv=10, scoring='accuracy')\n",
    "mnb.fit(X_train, y_train)\n",
    "mnb.best_params_"
   ]
  },
  {
   "cell_type": "code",
   "execution_count": 41,
   "id": "f438938f",
   "metadata": {},
   "outputs": [],
   "source": [
    "filename = './models/mnb_tf.sav'\n",
    "pickle.dump(mnb, open(filename, 'wb'))"
   ]
  },
  {
   "cell_type": "code",
   "execution_count": 42,
   "id": "eba124b4",
   "metadata": {},
   "outputs": [],
   "source": [
    "mnb = pickle.load(open(filename, 'rb'))"
   ]
  },
  {
   "cell_type": "code",
   "execution_count": 43,
   "id": "7e547948",
   "metadata": {},
   "outputs": [],
   "source": [
    "predictions = mnb.predict(X_test)"
   ]
  },
  {
   "cell_type": "code",
   "execution_count": 44,
   "id": "e13d0dd3",
   "metadata": {},
   "outputs": [
    {
     "name": "stdout",
     "output_type": "stream",
     "text": [
      "Accuracy on test data:  0.5762132604237867\n",
      "F1 Score (macro):  0.546581002618255\n",
      "F1 Score (micro):  0.5762132604237867\n",
      "F1 Score (weighted):  0.5617278041743015\n"
     ]
    }
   ],
   "source": [
    "test_accuracy = mnb.score(X_test, y_test)\n",
    "probs = mnb.predict_proba(X_test)[:, 1]\n",
    "f1_accuracy_macro = f1_score(y_test, predictions, average='macro')\n",
    "f1_accuracy_micro = f1_score(y_test, predictions, average='micro')\n",
    "f1_accuracy_weighted = f1_score(y_test, predictions, average='weighted')\n",
    "\n",
    "print('Accuracy on test data: ' , test_accuracy)\n",
    "print('F1 Score (macro): ', f1_accuracy_macro)\n",
    "print('F1 Score (micro): ', f1_accuracy_micro)\n",
    "print('F1 Score (weighted): ', f1_accuracy_weighted)"
   ]
  },
  {
   "cell_type": "code",
   "execution_count": 45,
   "id": "3292c0b7",
   "metadata": {},
   "outputs": [],
   "source": [
    "# Assign metric to variables\n",
    "mnb_tf_acc = test_accuracy\n",
    "mnb_tf_f1_macro = f1_accuracy_macro\n",
    "mnb_tf_f1_micro = f1_accuracy_micro\n",
    "mnb_tf_f1_weighted = f1_accuracy_weighted"
   ]
  },
  {
   "cell_type": "markdown",
   "id": "ebeb9b98",
   "metadata": {},
   "source": [
    "### Gradient Boosted Classification with Count Vectorizer <a id='GBC_CV'></a>"
   ]
  },
  {
   "cell_type": "code",
   "execution_count": 47,
   "id": "4295e9dd",
   "metadata": {},
   "outputs": [
    {
     "data": {
      "text/plain": [
       "{'gbc__learning_rate': 0.25, 'gbc__n_estimators': 500}"
      ]
     },
     "execution_count": 47,
     "metadata": {},
     "output_type": "execute_result"
    }
   ],
   "source": [
    "steps = [('vec', CountVectorizer(min_df=1, stop_words='english', ngram_range=(1,2))), \n",
    "         ('gbc', GradientBoostingClassifier(max_features='sqrt'))]\n",
    "pipeline = Pipeline(steps)\n",
    "parameters = {'gbc__n_estimators': [10, 50, 100, 200, 500], 'gbc__learning_rate': [0.05, 0.1, 0.15, 0.2, 0.25]}\n",
    "gbm = GridSearchCV(pipeline, parameters, cv=3, scoring='accuracy')\n",
    "gbm.fit(X_train, y_train)\n",
    "gbm.best_params_"
   ]
  },
  {
   "cell_type": "code",
   "execution_count": 48,
   "id": "f3f45522",
   "metadata": {},
   "outputs": [
    {
     "data": {
      "text/plain": [
       "Pipeline(steps=[('vec',\n",
       "                 CountVectorizer(ngram_range=(1, 2), stop_words='english')),\n",
       "                ('gbc',\n",
       "                 GradientBoostingClassifier(learning_rate=0.25,\n",
       "                                            max_features='sqrt',\n",
       "                                            n_estimators=500))])"
      ]
     },
     "execution_count": 48,
     "metadata": {},
     "output_type": "execute_result"
    }
   ],
   "source": [
    "steps = [('vec', CountVectorizer(min_df=1, stop_words='english', ngram_range=(1,2))), \n",
    "         ('gbc', GradientBoostingClassifier(learning_rate=0.25, max_features='sqrt', n_estimators=500))] \n",
    "gbm = Pipeline(steps) \n",
    "gbm.fit(X_train, y_train)"
   ]
  },
  {
   "cell_type": "code",
   "execution_count": 49,
   "id": "355d5396",
   "metadata": {},
   "outputs": [],
   "source": [
    "filename = './models/gbm_cv.sav'\n",
    "pickle.dump(gbm, open(filename, 'wb'))"
   ]
  },
  {
   "cell_type": "code",
   "execution_count": 50,
   "id": "4b38c606",
   "metadata": {},
   "outputs": [],
   "source": [
    "gbm = pickle.load(open(filename, 'rb'))"
   ]
  },
  {
   "cell_type": "code",
   "execution_count": 51,
   "id": "713c8acb",
   "metadata": {},
   "outputs": [],
   "source": [
    "predictions = gbm.predict(X_test)"
   ]
  },
  {
   "cell_type": "code",
   "execution_count": 52,
   "id": "aec8ca13",
   "metadata": {},
   "outputs": [
    {
     "name": "stdout",
     "output_type": "stream",
     "text": [
      "Accuracy on test data:  0.6151742993848257\n",
      "F1 Score (macro):  0.6068402353651388\n",
      "F1 Score (micro):  0.6151742993848257\n",
      "F1 Score (weighted):  0.6114024473315287\n"
     ]
    }
   ],
   "source": [
    "test_accuracy = gbm.score(X_test, y_test)\n",
    "probs = gbm.predict_proba(X_test)[:, 1]\n",
    "f1_accuracy_macro = f1_score(y_test, predictions, average='macro')\n",
    "f1_accuracy_micro = f1_score(y_test, predictions, average='micro')\n",
    "f1_accuracy_weighted = f1_score(y_test, predictions, average='weighted')\n",
    "\n",
    "print('Accuracy on test data: ' , test_accuracy)\n",
    "print('F1 Score (macro): ', f1_accuracy_macro)\n",
    "print('F1 Score (micro): ', f1_accuracy_micro)\n",
    "print('F1 Score (weighted): ', f1_accuracy_weighted)"
   ]
  },
  {
   "cell_type": "code",
   "execution_count": 53,
   "id": "1f34b216",
   "metadata": {},
   "outputs": [],
   "source": [
    "# Assign metric to variables\n",
    "gbm_cv_acc = test_accuracy\n",
    "gbm_cv_f1_macro = f1_accuracy_macro\n",
    "gbm_cv_f1_micro = f1_accuracy_micro\n",
    "gbm_cv_f1_weighted = f1_accuracy_weighted"
   ]
  },
  {
   "cell_type": "markdown",
   "id": "915fbd1b",
   "metadata": {},
   "source": [
    "### Gradient Boosted Classification with TFIDF <a id='GBC_TF'></a>"
   ]
  },
  {
   "cell_type": "code",
   "execution_count": 54,
   "id": "c0559b23",
   "metadata": {},
   "outputs": [
    {
     "data": {
      "text/plain": [
       "{'gbc__learning_rate': 0.25}"
      ]
     },
     "execution_count": 54,
     "metadata": {},
     "output_type": "execute_result"
    }
   ],
   "source": [
    "steps = [('vec', TfidfVectorizer(stop_words='english', ngram_range=(1,2))), \n",
    "         ('gbc', GradientBoostingClassifier(max_features='sqrt', n_estimators=500))]\n",
    "pipeline = Pipeline(steps)\n",
    "parameters = {'gbc__learning_rate': [0.05, 0.1, 0.15, 0.2, 0.25]}\n",
    "gbm = GridSearchCV(pipeline, parameters, cv=3, scoring='accuracy')\n",
    "gbm.fit(X_train, y_train)\n",
    "gbm.best_params_"
   ]
  },
  {
   "cell_type": "code",
   "execution_count": 61,
   "id": "6c28675b",
   "metadata": {},
   "outputs": [
    {
     "data": {
      "text/plain": [
       "Pipeline(steps=[('vec',\n",
       "                 TfidfVectorizer(ngram_range=(1, 2), stop_words='english')),\n",
       "                ('gbc',\n",
       "                 GradientBoostingClassifier(learning_rate=0.25,\n",
       "                                            max_features='sqrt',\n",
       "                                            n_estimators=500))])"
      ]
     },
     "execution_count": 61,
     "metadata": {},
     "output_type": "execute_result"
    }
   ],
   "source": [
    "steps = [('vec', TfidfVectorizer(stop_words='english', ngram_range=(1,2))), \n",
    "         ('gbc', GradientBoostingClassifier(learning_rate=0.25, max_features='sqrt', n_estimators=500))] \n",
    "gbm = Pipeline(steps) \n",
    "gbm.fit(X_train, y_train)"
   ]
  },
  {
   "cell_type": "code",
   "execution_count": 62,
   "id": "78aa4f20",
   "metadata": {},
   "outputs": [],
   "source": [
    "filename = './models/gbm_tf.sav'\n",
    "pickle.dump(gbm, open(filename, 'wb'))"
   ]
  },
  {
   "cell_type": "code",
   "execution_count": 63,
   "id": "a8ea36f4",
   "metadata": {},
   "outputs": [],
   "source": [
    "gbm = pickle.load(open(filename, 'rb'))"
   ]
  },
  {
   "cell_type": "code",
   "execution_count": 64,
   "id": "adf94465",
   "metadata": {},
   "outputs": [],
   "source": [
    "predictions = gbm.predict(X_test)"
   ]
  },
  {
   "cell_type": "code",
   "execution_count": 65,
   "id": "7a8c4b54",
   "metadata": {},
   "outputs": [
    {
     "name": "stdout",
     "output_type": "stream",
     "text": [
      "Accuracy on test data:  0.6035543403964456\n",
      "F1 Score (macro):  0.6088842084350928\n",
      "F1 Score (micro):  0.6035543403964456\n",
      "F1 Score (weighted):  0.6009713597852001\n"
     ]
    }
   ],
   "source": [
    "test_accuracy = gbm.score(X_test, y_test)\n",
    "probs = gbm.predict_proba(X_test)[:, 1]\n",
    "f1_accuracy_macro = f1_score(y_test, predictions, average='macro')\n",
    "f1_accuracy_micro = f1_score(y_test, predictions, average='micro')\n",
    "f1_accuracy_weighted = f1_score(y_test, predictions, average='weighted')\n",
    "\n",
    "print('Accuracy on test data: ' , test_accuracy)\n",
    "print('F1 Score (macro): ', f1_accuracy_macro)\n",
    "print('F1 Score (micro): ', f1_accuracy_micro)\n",
    "print('F1 Score (weighted): ', f1_accuracy_weighted)"
   ]
  },
  {
   "cell_type": "code",
   "execution_count": 66,
   "id": "993d3aa6",
   "metadata": {},
   "outputs": [],
   "source": [
    "# Assign metric to variables\n",
    "gbm_tf_acc = test_accuracy\n",
    "gbm_tf_f1_macro = f1_accuracy_macro\n",
    "gbm_tf_f1_micro = f1_accuracy_micro\n",
    "gbm_tf_f1_weighted = f1_accuracy_weighted"
   ]
  },
  {
   "cell_type": "markdown",
   "id": "3afa6ad9",
   "metadata": {},
   "source": [
    "### Logistic Regression with Count Vectorizer <a id='LR_CV'></a>"
   ]
  },
  {
   "cell_type": "code",
   "execution_count": 67,
   "id": "51aacf67",
   "metadata": {},
   "outputs": [
    {
     "data": {
      "text/plain": [
       "{'lr__C': 0.1}"
      ]
     },
     "execution_count": 67,
     "metadata": {},
     "output_type": "execute_result"
    }
   ],
   "source": [
    "steps = [('vec', CountVectorizer(min_df=1, stop_words='english', ngram_range=(1,2))), \n",
    "         ('lr', LogisticRegression())]\n",
    "pipeline = Pipeline(steps)\n",
    "parameters = {'lr__C': [0.01, 0.1, 1, 10, 100]}\n",
    "\n",
    "log_reg = GridSearchCV(pipeline, parameters, cv=10, scoring='accuracy')\n",
    "log_reg.fit(X_train, y_train)\n",
    "log_reg.best_params_"
   ]
  },
  {
   "cell_type": "code",
   "execution_count": 68,
   "id": "c2db3eb8",
   "metadata": {},
   "outputs": [],
   "source": [
    "filename = './models/lr_cv.sav'\n",
    "pickle.dump(log_reg, open(filename, 'wb'))"
   ]
  },
  {
   "cell_type": "code",
   "execution_count": 69,
   "id": "5ebc67e8",
   "metadata": {},
   "outputs": [],
   "source": [
    "log_reg = pickle.load(open(filename, 'rb'))"
   ]
  },
  {
   "cell_type": "code",
   "execution_count": 70,
   "id": "9a971572",
   "metadata": {},
   "outputs": [],
   "source": [
    "predictions = log_reg.predict(X_test)"
   ]
  },
  {
   "cell_type": "code",
   "execution_count": 71,
   "id": "75a13a3a",
   "metadata": {},
   "outputs": [],
   "source": [
    "test_accuracy = log_reg.score(X_test, y_test)\n",
    "probs = log_reg.predict_proba(X_test)[:, 1]\n",
    "f1_accuracy_macro = f1_score(y_test, predictions, average='macro')\n",
    "f1_accuracy_micro = f1_score(y_test, predictions, average='micro')\n",
    "f1_accuracy_weighted = f1_score(y_test, predictions, average='weighted')"
   ]
  },
  {
   "cell_type": "code",
   "execution_count": 72,
   "id": "0f7e07cd",
   "metadata": {},
   "outputs": [
    {
     "name": "stdout",
     "output_type": "stream",
     "text": [
      "Accuracy on test data:  0.7084757347915243\n",
      "F1 Score (macro):  0.7119613270094336\n",
      "F1 Score (micro):  0.7084757347915243\n",
      "F1 Score (weighted):  0.7082480086275422\n"
     ]
    }
   ],
   "source": [
    "print('Accuracy on test data: ' ,test_accuracy)\n",
    "print('F1 Score (macro): ', f1_accuracy_macro)\n",
    "print('F1 Score (micro): ', f1_accuracy_micro)\n",
    "print('F1 Score (weighted): ', f1_accuracy_weighted)"
   ]
  },
  {
   "cell_type": "code",
   "execution_count": 73,
   "id": "fd13fc42",
   "metadata": {},
   "outputs": [],
   "source": [
    "# Assign metric to variables\n",
    "lr_cv_acc = test_accuracy\n",
    "lr_cv_f1_macro = f1_accuracy_macro\n",
    "lr_cv_f1_micro = f1_accuracy_micro\n",
    "lr_cv_f1_weighted = f1_accuracy_weighted"
   ]
  },
  {
   "cell_type": "markdown",
   "id": "1750b590",
   "metadata": {},
   "source": [
    "### Logistic Regression with TFIDF <a id='LR_TF'></a>"
   ]
  },
  {
   "cell_type": "code",
   "execution_count": 74,
   "id": "b63e76a2",
   "metadata": {},
   "outputs": [
    {
     "data": {
      "text/plain": [
       "{'lr__C': 100}"
      ]
     },
     "execution_count": 74,
     "metadata": {},
     "output_type": "execute_result"
    }
   ],
   "source": [
    "steps = [('vec', TfidfVectorizer(stop_words='english', ngram_range=(1,2))), \n",
    "         ('lr', LogisticRegression())]\n",
    "pipeline = Pipeline(steps)\n",
    "parameters = {'lr__C': [0.01, 0.1, 1, 10, 100]}\n",
    "\n",
    "log_reg = GridSearchCV(pipeline, parameters, cv=10, scoring='accuracy')\n",
    "log_reg.fit(X_train, y_train)\n",
    "log_reg.best_params_"
   ]
  },
  {
   "cell_type": "code",
   "execution_count": 75,
   "id": "d4583b0b",
   "metadata": {},
   "outputs": [],
   "source": [
    "filename = './models/lr_tf.sav'\n",
    "pickle.dump(log_reg, open(filename, 'wb'))"
   ]
  },
  {
   "cell_type": "code",
   "execution_count": 76,
   "id": "5d6eb1d0",
   "metadata": {},
   "outputs": [],
   "source": [
    "log_reg = pickle.load(open(filename, 'rb'))"
   ]
  },
  {
   "cell_type": "code",
   "execution_count": 77,
   "id": "80f44ddc",
   "metadata": {},
   "outputs": [],
   "source": [
    "predictions = log_reg.predict(X_test)"
   ]
  },
  {
   "cell_type": "code",
   "execution_count": 78,
   "id": "93bb363c",
   "metadata": {},
   "outputs": [],
   "source": [
    "test_accuracy = log_reg.score(X_test, y_test)\n",
    "probs = log_reg.predict_proba(X_test)[:, 1]\n",
    "f1_accuracy_macro = f1_score(y_test, predictions, average='macro')\n",
    "f1_accuracy_micro = f1_score(y_test, predictions, average='micro')\n",
    "f1_accuracy_weighted = f1_score(y_test, predictions, average='weighted')"
   ]
  },
  {
   "cell_type": "code",
   "execution_count": 79,
   "id": "81ffdce4",
   "metadata": {},
   "outputs": [
    {
     "name": "stdout",
     "output_type": "stream",
     "text": [
      "Accuracy on test data:  0.6753246753246753\n",
      "F1 Score (macro):  0.6686276799999811\n",
      "F1 Score (micro):  0.6753246753246753\n",
      "F1 Score (weighted):  0.6743840838367181\n"
     ]
    }
   ],
   "source": [
    "print('Accuracy on test data: ' ,test_accuracy)\n",
    "print('F1 Score (macro): ', f1_accuracy_macro)\n",
    "print('F1 Score (micro): ', f1_accuracy_micro)\n",
    "print('F1 Score (weighted): ', f1_accuracy_weighted)"
   ]
  },
  {
   "cell_type": "code",
   "execution_count": 80,
   "id": "287bf812",
   "metadata": {},
   "outputs": [],
   "source": [
    "# Assign metric to variables\n",
    "lr_tf_acc = test_accuracy\n",
    "lr_tf_f1_macro = f1_accuracy_macro\n",
    "lr_tf_f1_micro = f1_accuracy_micro\n",
    "lr_tf_f1_weighted = f1_accuracy_weighted"
   ]
  },
  {
   "cell_type": "markdown",
   "id": "6e13e9e6",
   "metadata": {},
   "source": [
    "### Results <a id='Results2'></a>"
   ]
  },
  {
   "cell_type": "code",
   "execution_count": 83,
   "id": "43a9364b",
   "metadata": {},
   "outputs": [
    {
     "data": {
      "text/html": [
       "<div>\n",
       "<style scoped>\n",
       "    .dataframe tbody tr th:only-of-type {\n",
       "        vertical-align: middle;\n",
       "    }\n",
       "\n",
       "    .dataframe tbody tr th {\n",
       "        vertical-align: top;\n",
       "    }\n",
       "\n",
       "    .dataframe thead th {\n",
       "        text-align: right;\n",
       "    }\n",
       "</style>\n",
       "<table border=\"1\" class=\"dataframe\">\n",
       "  <thead>\n",
       "    <tr style=\"text-align: right;\">\n",
       "      <th></th>\n",
       "      <th>Model</th>\n",
       "      <th>Accuracy</th>\n",
       "      <th>F1_Macro</th>\n",
       "      <th>F1_Micro</th>\n",
       "      <th>F1_Weighted</th>\n",
       "    </tr>\n",
       "  </thead>\n",
       "  <tbody>\n",
       "    <tr>\n",
       "      <th>0</th>\n",
       "      <td>MultinomialNB (CV)</td>\n",
       "      <td>0.589</td>\n",
       "      <td>0.592</td>\n",
       "      <td>0.589</td>\n",
       "      <td>0.587</td>\n",
       "    </tr>\n",
       "    <tr>\n",
       "      <th>1</th>\n",
       "      <td>MultinomialNB (TF)</td>\n",
       "      <td>0.576</td>\n",
       "      <td>0.547</td>\n",
       "      <td>0.576</td>\n",
       "      <td>0.562</td>\n",
       "    </tr>\n",
       "    <tr>\n",
       "      <th>2</th>\n",
       "      <td>GradientBoostingClassifier (CV)</td>\n",
       "      <td>0.615</td>\n",
       "      <td>0.607</td>\n",
       "      <td>0.615</td>\n",
       "      <td>0.611</td>\n",
       "    </tr>\n",
       "    <tr>\n",
       "      <th>3</th>\n",
       "      <td>GradientBoostingClassifier (TF)</td>\n",
       "      <td>0.604</td>\n",
       "      <td>0.609</td>\n",
       "      <td>0.604</td>\n",
       "      <td>0.601</td>\n",
       "    </tr>\n",
       "    <tr>\n",
       "      <th>4</th>\n",
       "      <td>Logistic Regression (CV)</td>\n",
       "      <td>0.708</td>\n",
       "      <td>0.712</td>\n",
       "      <td>0.708</td>\n",
       "      <td>0.708</td>\n",
       "    </tr>\n",
       "    <tr>\n",
       "      <th>5</th>\n",
       "      <td>Logistic Regression (TF)</td>\n",
       "      <td>0.675</td>\n",
       "      <td>0.669</td>\n",
       "      <td>0.675</td>\n",
       "      <td>0.674</td>\n",
       "    </tr>\n",
       "  </tbody>\n",
       "</table>\n",
       "</div>"
      ],
      "text/plain": [
       "                             Model  Accuracy  F1_Macro  F1_Micro  F1_Weighted\n",
       "0               MultinomialNB (CV)     0.589     0.592     0.589        0.587\n",
       "1               MultinomialNB (TF)     0.576     0.547     0.576        0.562\n",
       "2  GradientBoostingClassifier (CV)     0.615     0.607     0.615        0.611\n",
       "3  GradientBoostingClassifier (TF)     0.604     0.609     0.604        0.601\n",
       "4         Logistic Regression (CV)     0.708     0.712     0.708        0.708\n",
       "5         Logistic Regression (TF)     0.675     0.669     0.675        0.674"
      ]
     },
     "execution_count": 83,
     "metadata": {},
     "output_type": "execute_result"
    }
   ],
   "source": [
    "result_2 = pd.DataFrame({'Model':['MultinomialNB (CV)', 'MultinomialNB (TF)', \n",
    "                                  'GradientBoostingClassifier (CV)', 'GradientBoostingClassifier (TF)',\n",
    "                                  'Logistic Regression (CV)', 'Logistic Regression (TF)'],\n",
    "                         'Accuracy':[mnb_cv_acc, \n",
    "                                     mnb_tf_acc, \n",
    "                                     gbm_cv_acc, \n",
    "                                     gbm_tf_acc,\n",
    "                                     lr_cv_acc, \n",
    "                                     lr_tf_acc],\n",
    "                         'F1_Macro':[mnb_cv_f1_macro, \n",
    "                                     mnb_tf_f1_macro, \n",
    "                                     gbm_cv_f1_macro, \n",
    "                                     gbm_tf_f1_macro, \n",
    "                                     lr_cv_f1_macro, \n",
    "                                     lr_tf_f1_macro],\n",
    "                         'F1_Micro':[mnb_cv_f1_micro, \n",
    "                                     mnb_tf_f1_micro, \n",
    "                                     gbm_cv_f1_micro, \n",
    "                                     gbm_tf_f1_micro, \n",
    "                                     lr_cv_f1_micro, \n",
    "                                     lr_tf_f1_micro],\n",
    "                         'F1_Weighted':[mnb_cv_f1_weighted, \n",
    "                                        mnb_tf_f1_weighted, \n",
    "                                        gbm_cv_f1_weighted, \n",
    "                                        gbm_tf_f1_weighted, \n",
    "                                        lr_cv_f1_weighted, \n",
    "                                        lr_tf_f1_weighted]})\n",
    "\n",
    "result_2 = result_2.round(3)\n",
    "result_2"
   ]
  },
  {
   "cell_type": "markdown",
   "id": "e35cc80c",
   "metadata": {},
   "source": [
    "---\n",
    "\n",
    "In this case, seems like Logistic Regression is still the better model albeit performing a little less well than the initial method.\n",
    "\n",
    "---"
   ]
  },
  {
   "cell_type": "markdown",
   "id": "5cbed9ea",
   "metadata": {},
   "source": [
    "## Part 3: Embedding Techniques <a id='Part3'></a>\n",
    "\n",
    "Next, we'll calculate the sparse/dense matrix of all the review's text and run it through the Multinomial Naive Bayes TFIDF model to get a probability for each classification group.\n",
    "\n",
    "Once we have that probability we can add it as a feature to the GBC model and have a stacked model which should be much more accurate.\n",
    "\n",
    "---"
   ]
  },
  {
   "cell_type": "markdown",
   "id": "41d21808",
   "metadata": {},
   "source": [
    "### Dense + Sparse Features <a id='Dense'></a>"
   ]
  },
  {
   "cell_type": "code",
   "execution_count": 84,
   "id": "b6228303",
   "metadata": {},
   "outputs": [
    {
     "data": {
      "text/plain": [
       "<14630x446361 sparse matrix of type '<class 'numpy.float64'>'\n",
       "\twith 1326691 stored elements in Compressed Sparse Row format>"
      ]
     },
     "execution_count": 84,
     "metadata": {},
     "output_type": "execute_result"
    }
   ],
   "source": [
    "df_combined = yelp_data\n",
    "df_combined['text'] = yelp_data['yelp_review']\n",
    "\n",
    "vec = TfidfVectorizer(stop_words='english', ngram_range=(1, 2))\n",
    "vec_fit = vec.fit(df_combined.text)\n",
    "\n",
    "sf = vec.fit_transform(df_combined.text)\n",
    "sf"
   ]
  },
  {
   "cell_type": "code",
   "execution_count": 85,
   "id": "3c193b57",
   "metadata": {},
   "outputs": [
    {
     "data": {
      "text/plain": [
       "array([[0.66944444, 0.267875  , 0.        , ..., 0.        , 0.        ,\n",
       "        0.        ],\n",
       "       [0.65729167, 0.1875    , 0.        , ..., 0.        , 0.        ,\n",
       "        0.        ],\n",
       "       [0.61903409, 0.184625  , 0.        , ..., 0.        , 0.        ,\n",
       "        0.        ],\n",
       "       ...,\n",
       "       [0.72916667, 0.238125  , 0.        , ..., 0.        , 0.        ,\n",
       "        0.        ],\n",
       "       [0.50952381, 0.0555    , 0.        , ..., 0.        , 0.        ,\n",
       "        0.        ],\n",
       "       [0.6       , 0.048125  , 0.        , ..., 0.        , 0.        ,\n",
       "        0.        ]])"
      ]
     },
     "execution_count": 85,
     "metadata": {},
     "output_type": "execute_result"
    }
   ],
   "source": [
    "dense_feat = df_combined.drop(['resturant_name', 'yelp_review', 'review_sentiment','text'], axis=1)\n",
    "\n",
    "scaler = MinMaxScaler()\n",
    "\n",
    "dense_feat = scaler.fit_transform(dense_feat)\n",
    "dense_feat"
   ]
  },
  {
   "cell_type": "code",
   "execution_count": 86,
   "id": "9c4fe2ef",
   "metadata": {},
   "outputs": [
    {
     "data": {
      "text/plain": [
       "<14630x1555 sparse matrix of type '<class 'numpy.float64'>'\n",
       "\twith 590213 stored elements in COOrdinate format>"
      ]
     },
     "execution_count": 86,
     "metadata": {},
     "output_type": "execute_result"
    }
   ],
   "source": [
    "dense_feat = coo_matrix(dense_feat)\n",
    "dense_feat"
   ]
  },
  {
   "cell_type": "markdown",
   "id": "d474f433",
   "metadata": {},
   "source": [
    "---\n",
    "\n",
    "590,213 is a lot, but it's much less than 1,000,000.\n",
    "\n",
    "---"
   ]
  },
  {
   "cell_type": "code",
   "execution_count": 87,
   "id": "6bdea9be",
   "metadata": {},
   "outputs": [],
   "source": [
    "# New training data with the same text but in dense matrix format\n",
    "X = hstack([sf, dense_feat.astype(float)])\n",
    "y = yelp_data['review_sentiment']\n",
    "indices = yelp_data.index"
   ]
  },
  {
   "cell_type": "code",
   "execution_count": 88,
   "id": "8422c4a8",
   "metadata": {},
   "outputs": [],
   "source": [
    "X_train, X_test, y_train, y_test, i_train, i_test = train_test_split(X, y, indices, test_size=0.2, random_state=7)"
   ]
  },
  {
   "cell_type": "code",
   "execution_count": 89,
   "id": "379c70e2",
   "metadata": {},
   "outputs": [
    {
     "data": {
      "text/plain": [
       "<11704x447916 sparse matrix of type '<class 'numpy.float64'>'\n",
       "\twith 1540338 stored elements in Compressed Sparse Row format>"
      ]
     },
     "execution_count": 89,
     "metadata": {},
     "output_type": "execute_result"
    }
   ],
   "source": [
    "X_train"
   ]
  },
  {
   "cell_type": "markdown",
   "id": "7d811201",
   "metadata": {},
   "source": [
    "### Naive Bayes Probability with Dense + Sparse Features <a id='NB_Sparse'></a>"
   ]
  },
  {
   "cell_type": "code",
   "execution_count": 90,
   "id": "f0239c71",
   "metadata": {},
   "outputs": [
    {
     "data": {
      "text/plain": [
       "{'nb__alpha': 0.01}"
      ]
     },
     "execution_count": 90,
     "metadata": {},
     "output_type": "execute_result"
    }
   ],
   "source": [
    "steps = [('nb', MultinomialNB())] \n",
    "pipeline = Pipeline(steps) \n",
    "parameters = {'nb__alpha': [0.01, 0.1, 1, 10, 100]}\n",
    "mnb = GridSearchCV(pipeline, parameters, cv=10, scoring='accuracy') \n",
    "\n",
    "mnb.fit(X_train, y_train)\n",
    "mnb.best_params_"
   ]
  },
  {
   "cell_type": "code",
   "execution_count": 91,
   "id": "8f21a913",
   "metadata": {},
   "outputs": [],
   "source": [
    "filename = './models/stacked_nb_ds.sav'\n",
    "pickle.dump(mnb, open(filename, 'wb'))"
   ]
  },
  {
   "cell_type": "code",
   "execution_count": 92,
   "id": "1b70bf7b",
   "metadata": {},
   "outputs": [],
   "source": [
    "mnb = pickle.load(open(filename, 'rb'))"
   ]
  },
  {
   "cell_type": "code",
   "execution_count": 93,
   "id": "37774dc4",
   "metadata": {},
   "outputs": [],
   "source": [
    "predictions = mnb.predict(X_test)"
   ]
  },
  {
   "cell_type": "code",
   "execution_count": 94,
   "id": "ac67b5a0",
   "metadata": {},
   "outputs": [
    {
     "name": "stdout",
     "output_type": "stream",
     "text": [
      "Accuracy on test data:  0.5919343814080656\n",
      "F1 Score (macro):  0.59825183960955\n",
      "F1 Score (micro):  0.5919343814080656\n",
      "F1 Score (weighted):  0.5856175710735403\n"
     ]
    }
   ],
   "source": [
    "test_accuracy = mnb.score(X_test, y_test)\n",
    "probs = mnb.predict_proba(X_test)[:, 1]\n",
    "f1_accuracy_macro = f1_score(y_test, predictions, average='macro')\n",
    "f1_accuracy_micro = f1_score(y_test, predictions, average='micro')\n",
    "f1_accuracy_weighted = f1_score(y_test, predictions, average='weighted')\n",
    "\n",
    "print('Accuracy on test data: ' ,test_accuracy)\n",
    "print('F1 Score (macro): ', f1_accuracy_macro)\n",
    "print('F1 Score (micro): ', f1_accuracy_micro)\n",
    "print('F1 Score (weighted): ', f1_accuracy_weighted)"
   ]
  },
  {
   "cell_type": "code",
   "execution_count": 95,
   "id": "a46500ad",
   "metadata": {},
   "outputs": [],
   "source": [
    "# Assign metric to variables\n",
    "stacked_nb_ds_acc = test_accuracy\n",
    "stacked_nb_ds_macro = f1_accuracy_macro\n",
    "stacked_nb_ds_micro = f1_accuracy_micro\n",
    "stacked_nb_ds_weighted = f1_accuracy_weighted"
   ]
  },
  {
   "cell_type": "markdown",
   "id": "b6e4f2a6",
   "metadata": {},
   "source": [
    "### Stacked Model (dense and sparse features + numerical features) <a id='Stacked'></a>\n",
    "\n",
    "First step is to make a new  train test split that is just text based, then we can compute the probability that the text is in one of four categories using the dense NB model above\n",
    "\n",
    "---"
   ]
  },
  {
   "cell_type": "code",
   "execution_count": 97,
   "id": "7822a5b9",
   "metadata": {},
   "outputs": [],
   "source": [
    "X = yelp_data['yelp_review']\n",
    "y = yelp_data['review_sentiment']\n",
    "indices = yelp_data.index\n",
    "\n",
    "X_train, X_test, y_train, y_test, i_train, i_test = train_test_split(X, y, indices, test_size=0.2, random_state=7)"
   ]
  },
  {
   "cell_type": "code",
   "execution_count": 98,
   "id": "e034c8d5",
   "metadata": {},
   "outputs": [
    {
     "data": {
      "text/plain": [
       "GridSearchCV(cv=10,\n",
       "             estimator=Pipeline(steps=[('vec',\n",
       "                                        CountVectorizer(ngram_range=(1, 2),\n",
       "                                                        stop_words='english')),\n",
       "                                       ('nb', MultinomialNB())]),\n",
       "             param_grid={'nb__alpha': [0.01, 0.1, 1, 10, 100],\n",
       "                         'vec__min_df': [0.01, 0.1, 1, 10, 100]},\n",
       "             scoring='accuracy')"
      ]
     },
     "execution_count": 98,
     "metadata": {},
     "output_type": "execute_result"
    }
   ],
   "source": [
    "steps = [('vec', CountVectorizer(stop_words='english', ngram_range=(1, 2))),\n",
    "         ('nb', MultinomialNB())]\n",
    "pipeline = Pipeline(steps)\n",
    "parameters = {'vec__min_df':[0.01, 0.1, 1, 10, 100],\n",
    "              'nb__alpha':[0.01, 0.1, 1, 10, 100]}\n",
    "\n",
    "mnb = GridSearchCV(pipeline, parameters, cv=10, scoring='accuracy')\n",
    "mnb.fit(X_train, y_train)"
   ]
  },
  {
   "cell_type": "code",
   "execution_count": 99,
   "id": "9e3ab480",
   "metadata": {},
   "outputs": [
    {
     "data": {
      "text/plain": [
       "{'nb__alpha': 0.01, 'vec__min_df': 0.01}"
      ]
     },
     "execution_count": 99,
     "metadata": {},
     "output_type": "execute_result"
    }
   ],
   "source": [
    "mnb.best_params_"
   ]
  },
  {
   "cell_type": "markdown",
   "id": "5694b7d6",
   "metadata": {},
   "source": [
    "---\n",
    "\n",
    "Now that we have our model, let's calculate probability.\n",
    "\n",
    "---"
   ]
  },
  {
   "cell_type": "code",
   "execution_count": 100,
   "id": "7ca17d87",
   "metadata": {},
   "outputs": [],
   "source": [
    "X_train_proba = pd.DataFrame(mnb.predict_proba(X_train), index=i_train)\n",
    "X_test_proba = pd.DataFrame(mnb.predict_proba(X_test), index=i_test)"
   ]
  },
  {
   "cell_type": "code",
   "execution_count": 101,
   "id": "5a0a9df7",
   "metadata": {},
   "outputs": [],
   "source": [
    "# Removing 'text' feature because we already have 'yelp_review' column\n",
    "yelp_data = yelp_data.drop(labels='text', axis=1)"
   ]
  },
  {
   "cell_type": "markdown",
   "id": "13c04fa7",
   "metadata": {},
   "source": [
    "---\n",
    "\n",
    "Now we can use our original dataset, which included percentage of positive words and TFIDF values and combine it with the probability features to create an improved test/train split.\n",
    "\n",
    "---"
   ]
  },
  {
   "cell_type": "code",
   "execution_count": 102,
   "id": "a52b3a76",
   "metadata": {},
   "outputs": [],
   "source": [
    "X = yelp_data.iloc[0:,4:]\n",
    "y = yelp_data['review_sentiment']\n",
    "indices = yelp_data.index\n",
    "\n",
    "X_train, X_test, y_train, y_test, i_train, i_test = train_test_split(X, y, indices, test_size=0.2, random_state=7)"
   ]
  },
  {
   "cell_type": "code",
   "execution_count": 104,
   "id": "2c144199",
   "metadata": {},
   "outputs": [],
   "source": [
    "X_train_combined = pd.merge(X_train, X_train_proba, left_index=True, right_index=True)\n",
    "X_test_combined = pd.merge(X_test, X_test_proba, left_index=True, right_index=True)"
   ]
  },
  {
   "cell_type": "markdown",
   "id": "b11a7e0e",
   "metadata": {},
   "source": [
    "---\n",
    "\n",
    "Here's what the combined training data looks like:\n",
    "\n",
    "---"
   ]
  },
  {
   "cell_type": "code",
   "execution_count": 105,
   "id": "1eac1e05",
   "metadata": {},
   "outputs": [
    {
     "data": {
      "text/html": [
       "<div>\n",
       "<style scoped>\n",
       "    .dataframe tbody tr th:only-of-type {\n",
       "        vertical-align: middle;\n",
       "    }\n",
       "\n",
       "    .dataframe tbody tr th {\n",
       "        vertical-align: top;\n",
       "    }\n",
       "\n",
       "    .dataframe thead th {\n",
       "        text-align: right;\n",
       "    }\n",
       "</style>\n",
       "<table border=\"1\" class=\"dataframe\">\n",
       "  <thead>\n",
       "    <tr style=\"text-align: right;\">\n",
       "      <th></th>\n",
       "      <th>proportion_positive</th>\n",
       "      <th>park</th>\n",
       "      <th>bake</th>\n",
       "      <th>shop</th>\n",
       "      <th>becom</th>\n",
       "      <th>go</th>\n",
       "      <th>spot</th>\n",
       "      <th>atmospher</th>\n",
       "      <th>place</th>\n",
       "      <th>great</th>\n",
       "      <th>...</th>\n",
       "      <th>antipasto</th>\n",
       "      <th>linguini</th>\n",
       "      <th>zucchini</th>\n",
       "      <th>player</th>\n",
       "      <th>sicilian</th>\n",
       "      <th>castl</th>\n",
       "      <th>0</th>\n",
       "      <th>1</th>\n",
       "      <th>2</th>\n",
       "      <th>3</th>\n",
       "    </tr>\n",
       "  </thead>\n",
       "  <tbody>\n",
       "    <tr>\n",
       "      <th>742</th>\n",
       "      <td>0.2581</td>\n",
       "      <td>0.0</td>\n",
       "      <td>0.175109</td>\n",
       "      <td>0.0</td>\n",
       "      <td>0.0</td>\n",
       "      <td>0.0</td>\n",
       "      <td>0.0</td>\n",
       "      <td>0.0</td>\n",
       "      <td>0.0</td>\n",
       "      <td>0.0</td>\n",
       "      <td>...</td>\n",
       "      <td>0.0</td>\n",
       "      <td>0.0</td>\n",
       "      <td>0.0</td>\n",
       "      <td>0.0</td>\n",
       "      <td>0.0</td>\n",
       "      <td>0.0</td>\n",
       "      <td>0.979864</td>\n",
       "      <td>3.459854e-06</td>\n",
       "      <td>1.980896e-02</td>\n",
       "      <td>3.240023e-04</td>\n",
       "    </tr>\n",
       "    <tr>\n",
       "      <th>3133</th>\n",
       "      <td>0.0917</td>\n",
       "      <td>0.0</td>\n",
       "      <td>0.000000</td>\n",
       "      <td>0.0</td>\n",
       "      <td>0.0</td>\n",
       "      <td>0.0</td>\n",
       "      <td>0.0</td>\n",
       "      <td>0.0</td>\n",
       "      <td>0.0</td>\n",
       "      <td>0.0</td>\n",
       "      <td>...</td>\n",
       "      <td>0.0</td>\n",
       "      <td>0.0</td>\n",
       "      <td>0.0</td>\n",
       "      <td>0.0</td>\n",
       "      <td>0.0</td>\n",
       "      <td>0.0</td>\n",
       "      <td>1.000000</td>\n",
       "      <td>7.843059e-28</td>\n",
       "      <td>1.739762e-07</td>\n",
       "      <td>4.467418e-19</td>\n",
       "    </tr>\n",
       "    <tr>\n",
       "      <th>4886</th>\n",
       "      <td>0.3043</td>\n",
       "      <td>0.0</td>\n",
       "      <td>0.000000</td>\n",
       "      <td>0.0</td>\n",
       "      <td>0.0</td>\n",
       "      <td>0.0</td>\n",
       "      <td>0.0</td>\n",
       "      <td>0.0</td>\n",
       "      <td>0.0</td>\n",
       "      <td>0.0</td>\n",
       "      <td>...</td>\n",
       "      <td>0.0</td>\n",
       "      <td>0.0</td>\n",
       "      <td>0.0</td>\n",
       "      <td>0.0</td>\n",
       "      <td>0.0</td>\n",
       "      <td>0.0</td>\n",
       "      <td>0.000034</td>\n",
       "      <td>8.674781e-01</td>\n",
       "      <td>2.138107e-02</td>\n",
       "      <td>1.111065e-01</td>\n",
       "    </tr>\n",
       "    <tr>\n",
       "      <th>14562</th>\n",
       "      <td>0.2113</td>\n",
       "      <td>0.0</td>\n",
       "      <td>0.000000</td>\n",
       "      <td>0.0</td>\n",
       "      <td>0.0</td>\n",
       "      <td>0.0</td>\n",
       "      <td>0.0</td>\n",
       "      <td>0.0</td>\n",
       "      <td>0.0</td>\n",
       "      <td>0.0</td>\n",
       "      <td>...</td>\n",
       "      <td>0.0</td>\n",
       "      <td>0.0</td>\n",
       "      <td>0.0</td>\n",
       "      <td>0.0</td>\n",
       "      <td>0.0</td>\n",
       "      <td>0.0</td>\n",
       "      <td>0.031983</td>\n",
       "      <td>1.259885e-08</td>\n",
       "      <td>8.807971e-01</td>\n",
       "      <td>8.722008e-02</td>\n",
       "    </tr>\n",
       "    <tr>\n",
       "      <th>13301</th>\n",
       "      <td>0.3000</td>\n",
       "      <td>0.0</td>\n",
       "      <td>0.000000</td>\n",
       "      <td>0.0</td>\n",
       "      <td>0.0</td>\n",
       "      <td>0.0</td>\n",
       "      <td>0.0</td>\n",
       "      <td>0.0</td>\n",
       "      <td>0.0</td>\n",
       "      <td>0.0</td>\n",
       "      <td>...</td>\n",
       "      <td>0.0</td>\n",
       "      <td>0.0</td>\n",
       "      <td>0.0</td>\n",
       "      <td>0.0</td>\n",
       "      <td>0.0</td>\n",
       "      <td>0.0</td>\n",
       "      <td>0.000002</td>\n",
       "      <td>9.097909e-01</td>\n",
       "      <td>3.604024e-03</td>\n",
       "      <td>8.660295e-02</td>\n",
       "    </tr>\n",
       "  </tbody>\n",
       "</table>\n",
       "<p>5 rows × 1558 columns</p>\n",
       "</div>"
      ],
      "text/plain": [
       "       proportion_positive  park      bake  shop  becom   go  spot  atmospher  \\\n",
       "742                 0.2581   0.0  0.175109   0.0    0.0  0.0   0.0        0.0   \n",
       "3133                0.0917   0.0  0.000000   0.0    0.0  0.0   0.0        0.0   \n",
       "4886                0.3043   0.0  0.000000   0.0    0.0  0.0   0.0        0.0   \n",
       "14562               0.2113   0.0  0.000000   0.0    0.0  0.0   0.0        0.0   \n",
       "13301               0.3000   0.0  0.000000   0.0    0.0  0.0   0.0        0.0   \n",
       "\n",
       "       place  great  ...  antipasto  linguini  zucchini  player  sicilian  \\\n",
       "742      0.0    0.0  ...        0.0       0.0       0.0     0.0       0.0   \n",
       "3133     0.0    0.0  ...        0.0       0.0       0.0     0.0       0.0   \n",
       "4886     0.0    0.0  ...        0.0       0.0       0.0     0.0       0.0   \n",
       "14562    0.0    0.0  ...        0.0       0.0       0.0     0.0       0.0   \n",
       "13301    0.0    0.0  ...        0.0       0.0       0.0     0.0       0.0   \n",
       "\n",
       "       castl         0             1             2             3  \n",
       "742      0.0  0.979864  3.459854e-06  1.980896e-02  3.240023e-04  \n",
       "3133     0.0  1.000000  7.843059e-28  1.739762e-07  4.467418e-19  \n",
       "4886     0.0  0.000034  8.674781e-01  2.138107e-02  1.111065e-01  \n",
       "14562    0.0  0.031983  1.259885e-08  8.807971e-01  8.722008e-02  \n",
       "13301    0.0  0.000002  9.097909e-01  3.604024e-03  8.660295e-02  \n",
       "\n",
       "[5 rows x 1558 columns]"
      ]
     },
     "execution_count": 105,
     "metadata": {},
     "output_type": "execute_result"
    }
   ],
   "source": [
    "X_train_combined.head()"
   ]
  },
  {
   "cell_type": "markdown",
   "id": "b3774a82",
   "metadata": {},
   "source": [
    "---\n",
    "\n",
    "From here, we just train a GBC model with this training data and then we should have a much improved accuracy score.\n",
    "\n",
    "---"
   ]
  },
  {
   "cell_type": "code",
   "execution_count": 113,
   "id": "fd30230c",
   "metadata": {},
   "outputs": [
    {
     "data": {
      "text/plain": [
       "{'gbc__learning_rate': 0.2, 'gbc__n_estimators': 500}"
      ]
     },
     "execution_count": 113,
     "metadata": {},
     "output_type": "execute_result"
    }
   ],
   "source": [
    "steps = [('gbc', GradientBoostingClassifier(max_features='sqrt'))] \n",
    "pipeline = Pipeline(steps) \n",
    "parameters = {'gbc__n_estimators':[10, 50, 100, 200, 500], 'gbc__learning_rate': [0.05, 0.1, 0.15, 0.2, 0.25]}\n",
    "\n",
    "gbm = GridSearchCV(pipeline, parameters, cv=10, scoring='accuracy') \n",
    "gbm.fit(X_train_combined, y_train)\n",
    "gbm.best_params_"
   ]
  },
  {
   "cell_type": "code",
   "execution_count": 114,
   "id": "c0f0bb56",
   "metadata": {},
   "outputs": [
    {
     "data": {
      "text/plain": [
       "Pipeline(steps=[('gbc',\n",
       "                 GradientBoostingClassifier(learning_rate=0.2,\n",
       "                                            max_features='sqrt',\n",
       "                                            n_estimators=500))])"
      ]
     },
     "execution_count": 114,
     "metadata": {},
     "output_type": "execute_result"
    }
   ],
   "source": [
    "steps = [('gbc', GradientBoostingClassifier(learning_rate=0.2, max_features='sqrt', n_estimators=500))] \n",
    "gbm = Pipeline(steps) \n",
    "gbm.fit(X_train_combined, y_train)"
   ]
  },
  {
   "cell_type": "code",
   "execution_count": 115,
   "id": "111a0eb4",
   "metadata": {},
   "outputs": [],
   "source": [
    "filename = './models/stacked.sav'\n",
    "pickle.dump(gbm, open(filename, 'wb'))"
   ]
  },
  {
   "cell_type": "code",
   "execution_count": 116,
   "id": "426696fd",
   "metadata": {},
   "outputs": [],
   "source": [
    "gbm = pickle.load(open(filename, 'rb'))"
   ]
  },
  {
   "cell_type": "code",
   "execution_count": 118,
   "id": "063abe33",
   "metadata": {},
   "outputs": [],
   "source": [
    "predictions = gbm.predict(X_test_combined)"
   ]
  },
  {
   "cell_type": "code",
   "execution_count": 120,
   "id": "217b14e7",
   "metadata": {},
   "outputs": [
    {
     "name": "stdout",
     "output_type": "stream",
     "text": [
      "Accuracy on test data:  0.7091592617908408\n",
      "F1 Score (macro):  0.7100235184828958\n",
      "F1 Score (micro):  0.7091592617908407\n",
      "F1 Score (weighted):  0.7089854996981134\n"
     ]
    }
   ],
   "source": [
    "test_accuracy = gbm.score(X_test_combined, y_test)\n",
    "probs = gbm.predict_proba(X_test_combined)[:, 1]\n",
    "f1_accuracy_macro = f1_score(y_test, predictions, average='macro')\n",
    "f1_accuracy_micro = f1_score(y_test, predictions, average='micro')\n",
    "f1_accuracy_weighted = f1_score(y_test, predictions, average='weighted')\n",
    "\n",
    "print('Accuracy on test data: ' ,test_accuracy)\n",
    "print('F1 Score (macro): ', f1_accuracy_macro)\n",
    "print('F1 Score (micro): ', f1_accuracy_micro)\n",
    "print('F1 Score (weighted): ', f1_accuracy_weighted)"
   ]
  },
  {
   "cell_type": "code",
   "execution_count": 125,
   "id": "2b85451d",
   "metadata": {},
   "outputs": [],
   "source": [
    "stacked_acc = test_accuracy\n",
    "stacked_f1_macro = f1_accuracy_macro\n",
    "stacked_f1_micro = f1_accuracy_micro\n",
    "stacked_f1_weighted = f1_accuracy_weighted"
   ]
  },
  {
   "cell_type": "code",
   "execution_count": 130,
   "id": "84c9f616",
   "metadata": {},
   "outputs": [
    {
     "data": {
      "text/plain": [
       "array([[245,   0, 117,   6],\n",
       "       [  2, 496,  12, 165],\n",
       "       [ 74,   9, 513, 210],\n",
       "       [  3, 123, 130, 821]])"
      ]
     },
     "execution_count": 130,
     "metadata": {},
     "output_type": "execute_result"
    }
   ],
   "source": [
    "cm = confusion_matrix(y_test, gbm.predict(X_test_combined), labels=None, sample_weight=None)\n",
    "cm"
   ]
  },
  {
   "cell_type": "code",
   "execution_count": 131,
   "id": "2707aad9",
   "metadata": {},
   "outputs": [],
   "source": [
    "cm_df =  pd.DataFrame(cm, index= [i for i in ['Negative',\n",
    "                                              'Positive',\n",
    "                                              'Slightly Negative',\n",
    "                                              'Slightly Positive']],\n",
    "                      \n",
    "                          columns= [i for i in ['Negative',\n",
    "                                                'Positive',\n",
    "                                                'Slightly Negative',\n",
    "                                                'Slightly Positive']])"
   ]
  },
  {
   "cell_type": "code",
   "execution_count": 132,
   "id": "652c9c5c",
   "metadata": {},
   "outputs": [
    {
     "data": {
      "text/plain": [
       "<AxesSubplot:>"
      ]
     },
     "execution_count": 132,
     "metadata": {},
     "output_type": "execute_result"
    },
    {
     "data": {
      "image/png": "[encoded data removed]",
      "text/plain": [
       "<Figure size 432x288 with 2 Axes>"
      ]
     },
     "metadata": {
      "needs_background": "light"
     },
     "output_type": "display_data"
    }
   ],
   "source": [
    "sns.heatmap(cm_df, annot=True,cmap='Blues',fmt='g')"
   ]
  },
  {
   "cell_type": "markdown",
   "id": "3b450aa0",
   "metadata": {},
   "source": [
    "### Results <a id='Results3'></a>   "
   ]
  },
  {
   "cell_type": "code",
   "execution_count": 126,
   "id": "61c4e8aa",
   "metadata": {},
   "outputs": [
    {
     "data": {
      "text/html": [
       "<div>\n",
       "<style scoped>\n",
       "    .dataframe tbody tr th:only-of-type {\n",
       "        vertical-align: middle;\n",
       "    }\n",
       "\n",
       "    .dataframe tbody tr th {\n",
       "        vertical-align: top;\n",
       "    }\n",
       "\n",
       "    .dataframe thead th {\n",
       "        text-align: right;\n",
       "    }\n",
       "</style>\n",
       "<table border=\"1\" class=\"dataframe\">\n",
       "  <thead>\n",
       "    <tr style=\"text-align: right;\">\n",
       "      <th></th>\n",
       "      <th>Model</th>\n",
       "      <th>Accuracy</th>\n",
       "      <th>F1_Macro</th>\n",
       "      <th>F1_Micro</th>\n",
       "      <th>F1_Weighted</th>\n",
       "    </tr>\n",
       "  </thead>\n",
       "  <tbody>\n",
       "    <tr>\n",
       "      <th>0</th>\n",
       "      <td>NB Probability Dense/Sparse</td>\n",
       "      <td>0.592</td>\n",
       "      <td>0.598</td>\n",
       "      <td>0.592</td>\n",
       "      <td>0.586</td>\n",
       "    </tr>\n",
       "    <tr>\n",
       "      <th>1</th>\n",
       "      <td>Stacked Model</td>\n",
       "      <td>0.709</td>\n",
       "      <td>0.710</td>\n",
       "      <td>0.709</td>\n",
       "      <td>0.709</td>\n",
       "    </tr>\n",
       "  </tbody>\n",
       "</table>\n",
       "</div>"
      ],
      "text/plain": [
       "                         Model  Accuracy  F1_Macro  F1_Micro  F1_Weighted\n",
       "0  NB Probability Dense/Sparse     0.592     0.598     0.592        0.586\n",
       "1                Stacked Model     0.709     0.710     0.709        0.709"
      ]
     },
     "execution_count": 126,
     "metadata": {},
     "output_type": "execute_result"
    }
   ],
   "source": [
    "result_3 = pd.DataFrame({'Model':['NB Probability Dense/Sparse', 'Stacked Model'],\n",
    "                        'Accuracy':[stacked_nb_ds_acc, stacked_acc],\n",
    "                        'F1_Macro':[stacked_nb_ds_macro, stacked_f1_macro],\n",
    "                        'F1_Micro':[stacked_nb_ds_micro, stacked_f1_micro],\n",
    "                        'F1_Weighted':[stacked_nb_ds_weighted, stacked_f1_weighted]})\n",
    "\n",
    "result_3 = result_3.round(3)\n",
    "result_3"
   ]
  },
  {
   "cell_type": "code",
   "execution_count": 127,
   "id": "733bffa7",
   "metadata": {},
   "outputs": [],
   "source": [
    "results_full = result_1.append(result_2)\n",
    "results_full = results_full.append(result_3)"
   ]
  },
  {
   "cell_type": "code",
   "execution_count": 128,
   "id": "b0a8a643",
   "metadata": {},
   "outputs": [
    {
     "data": {
      "text/html": [
       "<div>\n",
       "<style scoped>\n",
       "    .dataframe tbody tr th:only-of-type {\n",
       "        vertical-align: middle;\n",
       "    }\n",
       "\n",
       "    .dataframe tbody tr th {\n",
       "        vertical-align: top;\n",
       "    }\n",
       "\n",
       "    .dataframe thead th {\n",
       "        text-align: right;\n",
       "    }\n",
       "</style>\n",
       "<table border=\"1\" class=\"dataframe\">\n",
       "  <thead>\n",
       "    <tr style=\"text-align: right;\">\n",
       "      <th></th>\n",
       "      <th>Model</th>\n",
       "      <th>Accuracy</th>\n",
       "      <th>F1_Macro</th>\n",
       "      <th>F1_Micro</th>\n",
       "      <th>F1_Weighted</th>\n",
       "    </tr>\n",
       "  </thead>\n",
       "  <tbody>\n",
       "    <tr>\n",
       "      <th>0</th>\n",
       "      <td>Logistic Regression</td>\n",
       "      <td>0.757</td>\n",
       "      <td>0.753</td>\n",
       "      <td>0.757</td>\n",
       "      <td>0.757</td>\n",
       "    </tr>\n",
       "    <tr>\n",
       "      <th>1</th>\n",
       "      <td>Stacked Model</td>\n",
       "      <td>0.709</td>\n",
       "      <td>0.710</td>\n",
       "      <td>0.709</td>\n",
       "      <td>0.709</td>\n",
       "    </tr>\n",
       "    <tr>\n",
       "      <th>4</th>\n",
       "      <td>Logistic Regression (CV)</td>\n",
       "      <td>0.708</td>\n",
       "      <td>0.712</td>\n",
       "      <td>0.708</td>\n",
       "      <td>0.708</td>\n",
       "    </tr>\n",
       "    <tr>\n",
       "      <th>3</th>\n",
       "      <td>GBC</td>\n",
       "      <td>0.701</td>\n",
       "      <td>0.703</td>\n",
       "      <td>0.701</td>\n",
       "      <td>0.701</td>\n",
       "    </tr>\n",
       "    <tr>\n",
       "      <th>2</th>\n",
       "      <td>SVC</td>\n",
       "      <td>0.685</td>\n",
       "      <td>0.668</td>\n",
       "      <td>0.685</td>\n",
       "      <td>0.682</td>\n",
       "    </tr>\n",
       "    <tr>\n",
       "      <th>5</th>\n",
       "      <td>Logistic Regression (TF)</td>\n",
       "      <td>0.675</td>\n",
       "      <td>0.669</td>\n",
       "      <td>0.675</td>\n",
       "      <td>0.674</td>\n",
       "    </tr>\n",
       "    <tr>\n",
       "      <th>1</th>\n",
       "      <td>Random Forest</td>\n",
       "      <td>0.629</td>\n",
       "      <td>0.624</td>\n",
       "      <td>0.629</td>\n",
       "      <td>0.627</td>\n",
       "    </tr>\n",
       "    <tr>\n",
       "      <th>2</th>\n",
       "      <td>GradientBoostingClassifier (CV)</td>\n",
       "      <td>0.615</td>\n",
       "      <td>0.607</td>\n",
       "      <td>0.615</td>\n",
       "      <td>0.611</td>\n",
       "    </tr>\n",
       "    <tr>\n",
       "      <th>3</th>\n",
       "      <td>GradientBoostingClassifier (TF)</td>\n",
       "      <td>0.604</td>\n",
       "      <td>0.609</td>\n",
       "      <td>0.604</td>\n",
       "      <td>0.601</td>\n",
       "    </tr>\n",
       "    <tr>\n",
       "      <th>0</th>\n",
       "      <td>NB Probability Dense/Sparse</td>\n",
       "      <td>0.592</td>\n",
       "      <td>0.598</td>\n",
       "      <td>0.592</td>\n",
       "      <td>0.586</td>\n",
       "    </tr>\n",
       "    <tr>\n",
       "      <th>0</th>\n",
       "      <td>MultinomialNB (CV)</td>\n",
       "      <td>0.589</td>\n",
       "      <td>0.592</td>\n",
       "      <td>0.589</td>\n",
       "      <td>0.587</td>\n",
       "    </tr>\n",
       "    <tr>\n",
       "      <th>1</th>\n",
       "      <td>MultinomialNB (TF)</td>\n",
       "      <td>0.576</td>\n",
       "      <td>0.547</td>\n",
       "      <td>0.576</td>\n",
       "      <td>0.562</td>\n",
       "    </tr>\n",
       "  </tbody>\n",
       "</table>\n",
       "</div>"
      ],
      "text/plain": [
       "                             Model  Accuracy  F1_Macro  F1_Micro  F1_Weighted\n",
       "0              Logistic Regression     0.757     0.753     0.757        0.757\n",
       "1                    Stacked Model     0.709     0.710     0.709        0.709\n",
       "4         Logistic Regression (CV)     0.708     0.712     0.708        0.708\n",
       "3                              GBC     0.701     0.703     0.701        0.701\n",
       "2                              SVC     0.685     0.668     0.685        0.682\n",
       "5         Logistic Regression (TF)     0.675     0.669     0.675        0.674\n",
       "1                    Random Forest     0.629     0.624     0.629        0.627\n",
       "2  GradientBoostingClassifier (CV)     0.615     0.607     0.615        0.611\n",
       "3  GradientBoostingClassifier (TF)     0.604     0.609     0.604        0.601\n",
       "0      NB Probability Dense/Sparse     0.592     0.598     0.592        0.586\n",
       "0               MultinomialNB (CV)     0.589     0.592     0.589        0.587\n",
       "1               MultinomialNB (TF)     0.576     0.547     0.576        0.562"
      ]
     },
     "execution_count": 128,
     "metadata": {},
     "output_type": "execute_result"
    }
   ],
   "source": [
    "results_full.sort_values(by='Accuracy', ascending=False)"
   ]
  },
  {
   "cell_type": "markdown",
   "id": "d5cd2556",
   "metadata": {},
   "source": [
    "---\n",
    "\n",
    "Interestingly, the Logistic Regression (simplest model) performed the best out of every other model.\n",
    "\n",
    "---"
   ]
  },
  {
   "cell_type": "code",
   "execution_count": null,
   "id": "f3213269",
   "metadata": {},
   "outputs": [],
   "source": []
  }
 ],
 "metadata": {
  "kernelspec": {
   "display_name": "Python 3 (ipykernel)",
   "language": "python",
   "name": "python3"
  },
  "language_info": {
   "codemirror_mode": {
    "name": "ipython",
    "version": 3
   },
   "file_extension": ".py",
   "mimetype": "text/x-python",
   "name": "python",
   "nbconvert_exporter": "python",
   "pygments_lexer": "ipython3",
   "version": "3.8.11"
  }
 },
 "nbformat": 4,
 "nbformat_minor": 5
}
